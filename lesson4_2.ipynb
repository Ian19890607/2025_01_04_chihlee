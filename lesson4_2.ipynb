{
 "cells": [
  {
   "cell_type": "code",
   "execution_count": 3,
   "metadata": {},
   "outputs": [],
   "source": [
    "file = open(file='student.csv',encoding='utf-8')\n",
    "file.close()"
   ]
  },
  {
   "cell_type": "code",
   "execution_count": null,
   "metadata": {},
   "outputs": [],
   "source": [
    "with open(file='student.csv',encoding='utf-8') as file:\n",
    "    content:str = file.read()\n",
    "\n",
    "print(content)\n"
   ]
  },
  {
   "cell_type": "code",
   "execution_count": 5,
   "metadata": {},
   "outputs": [
    {
     "name": "stdout",
     "output_type": "stream",
     "text": [
      "['name,chinese,english,math,history,health\\n', 'student1,71,53,82,96,62\\n', 'student2,81,50,51,68,56\\n', 'student3,85,96,62,80,67\\n', 'student4,68,99,74,54,78\\n', 'student5,54,61,66,98,62\\n', 'student6,73,96,98,83,80\\n', 'student7,51,95,63,53,97\\n', 'student8,86,64,54,92,80\\n', 'student9,58,64,68,66,57\\n', 'student10,62,59,69,77,78\\n', 'student11,84,78,56,66,69\\n', 'student12,82,75,68,99,84\\n', 'student13,79,96,67,54,74\\n', 'student14,58,57,82,56,63\\n', 'student15,56,73,62,72,74\\n', 'student16,58,91,70,85,78\\n', 'student17,76,54,99,56,58\\n', 'student18,64,94,78,53,93\\n', 'student19,68,71,99,80,95\\n', 'student20,66,57,72,63,93\\n', 'student21,69,55,55,93,73\\n', 'student22,100,66,99,90,57\\n', 'student23,92,63,81,65,95\\n', 'student24,83,97,79,83,69\\n', 'student25,96,71,50,79,98\\n', 'student26,97,58,63,50,96\\n', 'student27,58,67,93,54,60\\n', 'student28,60,82,90,75,90\\n', 'student29,95,75,95,70,89\\n', 'student30,94,73,93,89,65\\n', 'student31,73,78,90,90,54\\n', 'student32,62,50,78,54,99\\n', 'student33,82,73,51,93,92\\n', 'student34,68,51,63,77,98\\n', 'student35,96,55,98,88,69\\n', 'student36,55,63,52,98,91\\n', 'student37,66,80,66,70,72\\n', 'student38,73,58,79,75,66\\n', 'student39,66,98,72,76,95\\n', 'student40,95,52,74,88,58\\n', 'student41,62,94,62,73,75\\n', 'student42,61,72,70,55,55\\n', 'student43,55,89,82,70,56\\n', 'student44,72,81,53,95,55\\n', 'student45,52,100,82,52,83\\n', 'student46,51,80,94,100,75\\n', 'student47,73,88,84,66,91\\n', 'student48,96,77,92,81,76\\n', 'student49,92,83,94,93,62\\n', 'student50,97,69,55,86,72\\n']\n"
     ]
    }
   ],
   "source": [
    "with open(file='student.csv',encoding='utf-8') as file:\n",
    "    lines:list[str] = file.readlines()\n",
    "    print(lines)\n"
   ]
  },
  {
   "cell_type": "code",
   "execution_count": 6,
   "metadata": {},
   "outputs": [
    {
     "name": "stdout",
     "output_type": "stream",
     "text": [
      "['student20', '66', '57', '72', '63', '93']\n"
     ]
    }
   ],
   "source": [
    "import csv\n",
    "with open(file='student.csv',encoding='utf-8') as file:\n",
    "    reader = csv.reader(file)\n",
    "    next(reader)\n",
    "    students:list = list(reader)\n",
    "\n",
    "for student in students:\n",
    "    if student[0] == 'student20':\n",
    "        print(student)\n",
    "    "
   ]
  }
 ],
 "metadata": {
  "kernelspec": {
   "display_name": "base",
   "language": "python",
   "name": "python3"
  },
  "language_info": {
   "codemirror_mode": {
    "name": "ipython",
    "version": 3
   },
   "file_extension": ".py",
   "mimetype": "text/x-python",
   "name": "python",
   "nbconvert_exporter": "python",
   "pygments_lexer": "ipython3",
   "version": "3.10.13"
  }
 },
 "nbformat": 4,
 "nbformat_minor": 2
}

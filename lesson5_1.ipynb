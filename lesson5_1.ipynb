{
 "cells": [
  {
   "cell_type": "code",
   "execution_count": 1,
   "metadata": {},
   "outputs": [
    {
     "name": "stdout",
     "output_type": "stream",
     "text": [
      "YouBike即時資訊下載完成！\n"
     ]
    }
   ],
   "source": [
    "import requests\n",
    "\n",
    "url = 'https://tcgbusfs.blob.core.windows.net/dotapp/youbike/v2/youbike_immediate.json'\n",
    "\n",
    "try:\n",
    "    response = requests.get(url)\n",
    "    response.raise_for_status()  # 檢查HTTP狀態碼，確保請求成功\n",
    "\n",
    "    data = response.json()  # 將JSON格式的資料轉換為Python字典\n",
    "\n",
    "    # 在這裡你可以對data做任何處理，例如儲存到檔案或分析資料\n",
    "    # 以下是一個簡單的範例，將資料儲存到youbike_data.json檔案中\n",
    "    with open('youbike_data.json', 'w', encoding='utf-8') as f:\n",
    "        import json\n",
    "        json.dump(data, f, ensure_ascii=False, indent=4)\n",
    "\n",
    "    print('YouBike即時資訊下載完成！')\n",
    "\n",
    "except requests.exceptions.RequestException as e:\n",
    "    print(f'下載YouBike即時資訊時發生錯誤：{e}')\n",
    "except json.JSONDecodeError as e:\n",
    "    print(f'解析JSON資料時發生錯誤：{e}')"
   ]
  },
  {
   "cell_type": "code",
   "execution_count": null,
   "metadata": {},
   "outputs": [],
   "source": [
    "for site in data:\n",
    "    if site['available_rent_bikes'] == 0:\n",
    "        print(site)"
   ]
  },
  {
   "cell_type": "code",
   "execution_count": 5,
   "metadata": {},
   "outputs": [
    {
     "name": "stdout",
     "output_type": "stream",
     "text": [
      "68\n",
      "YouBike2.0_復興南路二段340巷口\n",
      "YouBike2.0_溫州停車場\n",
      "YouBike2.0_臺大男七舍前\n",
      "YouBike2.0_和平龍泉街口\n",
      "YouBike2.0_捷運古亭站(5號出口)\n",
      "YouBike2.0_敦化南路二段293巷口南側\n",
      "YouBike2.0_捷運忠孝新生站(6號出口)\n",
      "YouBike2.0_敦親公園\n",
      "YouBike2.0_臺北遠企購物中心\n",
      "YouBike2.0_懷生國中\n",
      "YouBike2.0_捷運忠孝復興站(1號出口)\n",
      "YouBike2.0_民權延平路口(西北側)\n",
      "YouBike2.0_捷運北門站(3號出口)\n",
      "YouBike2.0_劍潭抽水站\n",
      "YouBike2.0_社子國小\n",
      "YouBike2.0_海光公園南側\n",
      "YouBike2.0_捷運動物園站(2號出口)\n",
      "YouBike2.0_名門社區\n",
      "YouBike2.0_景文街142巷口\n",
      "YouBike2.0_捷運古亭站(9號出口)\n",
      "YouBike2.0_捷運小南門站(1號出口)\n",
      "YouBike2.0_法務部\n",
      "YouBike2.0_羅斯福寧波東街口\n",
      "YouBike2.0_螢橋公園\n",
      "YouBike2.0_公館水岸廣場\n",
      "YouBike2.0_中吉公園\n",
      "YouBike2.0_捷運行政大樓\n",
      "YouBike2.0_吉林路123巷口\n",
      "YouBike2.0_中原民生路口\n",
      "YouBike2.0_中山北路二段59巷口\n",
      "YouBike2.0_永盛公園(民生東路一段23巷)\n",
      "YouBike2.0_興安合江路口\n",
      "YouBike2.0_民族玉門街口\n",
      "YouBike2.0_建國長春路口(北側)\n",
      "YouBike2.0_復華公園\n",
      "YouBike2.0_龍江朱崙街口\n",
      "YouBike2.0_敬業三樂群三路口(西北側)\n",
      "YouBike2.0_長春路258巷2弄口\n",
      "YouBike2.0_中崙加油站\n",
      "YouBike2.0_中正國小(南京東路三段48巷)\n",
      "YouBike2.0_舊宗新湖二路口\n",
      "YouBike2.0_長壽抽水站\n",
      "YouBike2.0_台北護理大學\n",
      "YouBike2.0_榮富公園\n",
      "YouBike2.0_陽明交大圖書館\n",
      "YouBike2.0_奇岩一號公園\n",
      "YouBike2.0_中庸公園\n",
      "YouBike2.0_立功街55巷口\n",
      "YouBike2.0_北投新興公園\n",
      "YouBike2.0_捷運石牌站(2號出口)(西安街一段)\n",
      "YouBike2.0_石牌路二段324巷口\n",
      "YouBike2.0_泉源路23巷口\n",
      "YouBike2.0_市民東寧路口\n",
      "YouBike2.0_寶清八德路口(北側)\n",
      "YouBike2.0_健康公園\n",
      "YouBike2.0_合樂公園\n",
      "YouBike2.0_捷運南港軟體園區(2號出口)\n",
      "YouBike2.0_忠孝東路六段278巷口\n",
      "YouBike2.0_松仁路253巷3弄\n",
      "YouBike2.0_光復信義路口東南側\n",
      "YouBike2.0_松智松壽路口\n",
      "YouBike2.0_松德公園\n",
      "YouBike2.0_吳興街284巷(廣安宮)\n",
      "YouBike2.0_廣慈博愛園區(西側)\n",
      "YouBike2.0_革新公園\n",
      "YouBike2.0_華江八號公園\n",
      "YouBike2.0_環河南雙園街口\n",
      "YouBike2.0_臺大二號館\n"
     ]
    }
   ],
   "source": [
    "def filter_func(n:dict):\n",
    "    return n['available_rent_bikes'] == 0\n",
    "\n",
    "zero_rent_bikes = list(filter(filter_func,data))\n",
    "print(len(zero_rent_bikes))\n",
    "for site in zero_rent_bikes:\n",
    "    print(site['sna'])"
   ]
  },
  {
   "cell_type": "code",
   "execution_count": 6,
   "metadata": {},
   "outputs": [
    {
     "name": "stdout",
     "output_type": "stream",
     "text": [
      "24\n",
      "YouBike2.0_第二學生活動中心\n",
      "YouBike2.0_捷運信義安和站(4號出口)\n",
      "YouBike2.0_捷運雙連站(2號出口)\n",
      "YouBike2.0_承德民生西路口\n",
      "YouBike2.0_捷運萬隆站(2號出口)\n",
      "YouBike2.0_捷運古亭站(9號出口)\n",
      "YouBike2.0_南海和平路口西南側\n",
      "YouBike2.0_莒光和平路口\n",
      "YouBike2.0_羅斯福寧波東街口\n",
      "YouBike2.0_捷運松江南京站(8號出口)\n",
      "YouBike2.0_新生農安街口\n",
      "YouBike2.0_捷運劍南路站(1號出口)\n",
      "YouBike2.0_長春路258巷2弄口\n",
      "YouBike2.0_中山北路二段62巷口\n",
      "YouBike2.0_北安通北街口\n",
      "YouBike2.0_捷運雙連站(1號出口)\n",
      "YouBike2.0_內湖運動中心\n",
      "YouBike2.0_捷運港墘站(1號出口)\n",
      "YouBike2.0_臺北田徑場\n",
      "YouBike2.0_中坡市民路口(東北側)\n",
      "YouBike2.0_光復信義路口東南側\n",
      "YouBike2.0_松智松壽路口\n",
      "YouBike2.0_捷運永春站(2號出口)\n",
      "YouBike2.0_松勤莊敬路口\n"
     ]
    }
   ],
   "source": [
    "def filter_func(n:dict):\n",
    "    return n['available_return_bikes'] == 0\n",
    "\n",
    "zero_rent_bikes = list(filter(filter_func,data))\n",
    "print(len(zero_rent_bikes))\n",
    "for site in zero_rent_bikes:\n",
    "    print(site['sna'])"
   ]
  }
 ],
 "metadata": {
  "kernelspec": {
   "display_name": "base",
   "language": "python",
   "name": "python3"
  },
  "language_info": {
   "codemirror_mode": {
    "name": "ipython",
    "version": 3
   },
   "file_extension": ".py",
   "mimetype": "text/x-python",
   "name": "python",
   "nbconvert_exporter": "python",
   "pygments_lexer": "ipython3",
   "version": "3.10.13"
  }
 },
 "nbformat": 4,
 "nbformat_minor": 2
}

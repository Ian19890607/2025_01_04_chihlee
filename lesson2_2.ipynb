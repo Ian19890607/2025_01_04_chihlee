{
 "cells": [
  {
   "cell_type": "code",
   "execution_count": 1,
   "metadata": {},
   "outputs": [
    {
     "data": {
      "text/plain": [
       "[2, 8, 9]"
      ]
     },
     "execution_count": 1,
     "metadata": {},
     "output_type": "execute_result"
    }
   ],
   "source": [
    "#使用符號建立\n",
    "lucky_number = [2, 8, 9]\n",
    "type(lucky_number)\n",
    "lucky_number"
   ]
  },
  {
   "cell_type": "code",
   "execution_count": null,
   "metadata": {},
   "outputs": [],
   "source": [
    "# 1. 建立 List 的方法\n",
    "empty_list = []                    # 空列表\n",
    "numbers = [1, 2, 3, 4, 5]         # 數字列表\n",
    "mixed = [1, \"hello\", 3.14, True]  # 混合類型列表\n",
    "list_from_range = list(range(5))  # 使用range建立\n",
    "\n",
    "# 2. 常用操作方法\n",
    "fruits = [\"蘋果\", \"香蕉\", \"橘子\"]\n",
    "fruits.append(\"芒果\")              # 添加元素\n",
    "fruits.insert(1, \"葡萄\")          # 插入元素\n",
    "fruits.remove(\"香蕉\")             # 移除元素\n",
    "fruits.pop()                      # 移除最後一個元素\n",
    "first_fruit = fruits[0]           # 訪問元素\n",
    "fruits[0] = \"草莓\"                # 修改元素\n",
    "\n",
    "# 3. List 切片操作\n",
    "numbers = [0, 1, 2, 3, 4, 5]\n",
    "first_three = numbers[0:3]        # 取前3個元素 [0,1,2]\n",
    "reversed_list = numbers[::-1]     # 反轉列表\n",
    "every_second = numbers[::2]       # 取每隔一個的元素\n",
    "\n",
    "# 4. 常用內建函數\n",
    "numbers = [3, 1, 4, 1, 5, 9, 2]\n",
    "length = len(numbers)             # 獲取長度\n",
    "maximum = max(numbers)            # 最大值\n",
    "minimum = min(numbers)            # 最小值\n",
    "total_sum = sum(numbers)          # 總和\n",
    "numbers.sort()                    # 排序\n",
    "numbers.reverse()                 # 反轉"
   ]
  },
  {
   "cell_type": "code",
   "execution_count": 2,
   "metadata": {},
   "outputs": [
    {
     "data": {
      "text/plain": [
       "19"
      ]
     },
     "execution_count": 2,
     "metadata": {},
     "output_type": "execute_result"
    }
   ],
   "source": [
    "sum(lucky_number)"
   ]
  },
  {
   "cell_type": "code",
   "execution_count": 3,
   "metadata": {},
   "outputs": [
    {
     "name": "stdout",
     "output_type": "stream",
     "text": [
      "<class 'tuple'>\n"
     ]
    },
    {
     "data": {
      "text/plain": [
       "(2, 8, 9)"
      ]
     },
     "execution_count": 3,
     "metadata": {},
     "output_type": "execute_result"
    }
   ],
   "source": [
    "#tuple的符號建立\n",
    "lucky_number1 = (2, 8, 9)\n",
    "print(type(lucky_number1))\n",
    "lucky_number1"
   ]
  },
  {
   "cell_type": "code",
   "execution_count": 4,
   "metadata": {},
   "outputs": [
    {
     "name": "stdout",
     "output_type": "stream",
     "text": [
      "2\n",
      "8\n",
      "9\n"
     ]
    }
   ],
   "source": [
    "print(lucky_number[0])\n",
    "print(lucky_number[1])\n",
    "print(lucky_number[2])"
   ]
  },
  {
   "cell_type": "code",
   "execution_count": 5,
   "metadata": {},
   "outputs": [
    {
     "data": {
      "text/plain": [
       "[10, 20, 30]"
      ]
     },
     "execution_count": 5,
     "metadata": {},
     "output_type": "execute_result"
    }
   ],
   "source": [
    "lucky_number[0] = 10\n",
    "lucky_number[1] = 20\n",
    "lucky_number[2] = 30\n",
    "lucky_number"
   ]
  },
  {
   "cell_type": "code",
   "execution_count": 6,
   "metadata": {},
   "outputs": [
    {
     "ename": "IndexError",
     "evalue": "list index out of range",
     "output_type": "error",
     "traceback": [
      "\u001b[1;31m---------------------------------------------------------------------------\u001b[0m",
      "\u001b[1;31mIndexError\u001b[0m                                Traceback (most recent call last)",
      "Cell \u001b[1;32mIn[6], line 1\u001b[0m\n\u001b[1;32m----> 1\u001b[0m \u001b[43mlucky_number\u001b[49m\u001b[43m[\u001b[49m\u001b[38;5;241;43m3\u001b[39;49m\u001b[43m]\u001b[49m\n",
      "\u001b[1;31mIndexError\u001b[0m: list index out of range"
     ]
    }
   ],
   "source": [
    "lucky_number[3]"
   ]
  },
  {
   "cell_type": "code",
   "execution_count": 7,
   "metadata": {},
   "outputs": [
    {
     "name": "stdout",
     "output_type": "stream",
     "text": [
      "[67, 87, 92, 69, 92]\n",
      "[89, 76, 92, 76, 89]\n"
     ]
    }
   ],
   "source": [
    "students = [\n",
    "    [67, 87, 92, 69, 92],\n",
    "    [89, 76, 92, 76, 89]\n",
    "]\n",
    "print(students[0])\n",
    "print(students[1])"
   ]
  }
 ],
 "metadata": {
  "kernelspec": {
   "display_name": "base",
   "language": "python",
   "name": "python3"
  },
  "language_info": {
   "codemirror_mode": {
    "name": "ipython",
    "version": 3
   },
   "file_extension": ".py",
   "mimetype": "text/x-python",
   "name": "python",
   "nbconvert_exporter": "python",
   "pygments_lexer": "ipython3",
   "version": "3.10.13"
  }
 },
 "nbformat": 4,
 "nbformat_minor": 2
}
